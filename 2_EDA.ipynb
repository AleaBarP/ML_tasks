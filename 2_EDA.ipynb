{
 "cells": [
  {
   "cell_type": "code",
   "execution_count": 206,
   "id": "50324f13",
   "metadata": {},
   "outputs": [],
   "source": [
    "import sqlite3\n",
    "import pandas as pd\n",
    "import os\n",
    "\n",
    "pd.set_option('display.max_column', None)"
   ]
  },
  {
   "cell_type": "code",
   "execution_count": 207,
   "id": "110b1537",
   "metadata": {},
   "outputs": [],
   "source": [
    "# Leave that code unchanged, it is required for the server check!\n",
    "db = sqlite3.connect(os.environ.get(\"DB_PATH\") or 'database.sqlite')"
   ]
  },
  {
   "cell_type": "code",
   "execution_count": 208,
   "id": "c173e537",
   "metadata": {},
   "outputs": [],
   "source": [
    "# You may load the data from SQL table directly to the Pandas dataframe as\n",
    "player_data = pd.read_sql(\"SELECT * FROM Player;\", db)"
   ]
  },
  {
   "cell_type": "code",
   "execution_count": 209,
   "id": "b69eddde",
   "metadata": {},
   "outputs": [
    {
     "data": {
      "text/html": [
       "<div>\n",
       "<style scoped>\n",
       "    .dataframe tbody tr th:only-of-type {\n",
       "        vertical-align: middle;\n",
       "    }\n",
       "\n",
       "    .dataframe tbody tr th {\n",
       "        vertical-align: top;\n",
       "    }\n",
       "\n",
       "    .dataframe thead th {\n",
       "        text-align: right;\n",
       "    }\n",
       "</style>\n",
       "<table border=\"1\" class=\"dataframe\">\n",
       "  <thead>\n",
       "    <tr style=\"text-align: right;\">\n",
       "      <th></th>\n",
       "      <th>id</th>\n",
       "      <th>player_api_id</th>\n",
       "      <th>player_name</th>\n",
       "      <th>player_fifa_api_id</th>\n",
       "      <th>birthday</th>\n",
       "      <th>height</th>\n",
       "      <th>weight</th>\n",
       "    </tr>\n",
       "  </thead>\n",
       "  <tbody>\n",
       "    <tr>\n",
       "      <th>0</th>\n",
       "      <td>1</td>\n",
       "      <td>505942</td>\n",
       "      <td>Aaron Appindangoye</td>\n",
       "      <td>218353</td>\n",
       "      <td>1992-02-29 00:00:00</td>\n",
       "      <td>182.88</td>\n",
       "      <td>187</td>\n",
       "    </tr>\n",
       "    <tr>\n",
       "      <th>1</th>\n",
       "      <td>2</td>\n",
       "      <td>155782</td>\n",
       "      <td>Aaron Cresswell</td>\n",
       "      <td>189615</td>\n",
       "      <td>1989-12-15 00:00:00</td>\n",
       "      <td>170.18</td>\n",
       "      <td>146</td>\n",
       "    </tr>\n",
       "    <tr>\n",
       "      <th>2</th>\n",
       "      <td>3</td>\n",
       "      <td>162549</td>\n",
       "      <td>Aaron Doran</td>\n",
       "      <td>186170</td>\n",
       "      <td>1991-05-13 00:00:00</td>\n",
       "      <td>170.18</td>\n",
       "      <td>163</td>\n",
       "    </tr>\n",
       "    <tr>\n",
       "      <th>3</th>\n",
       "      <td>4</td>\n",
       "      <td>30572</td>\n",
       "      <td>Aaron Galindo</td>\n",
       "      <td>140161</td>\n",
       "      <td>1982-05-08 00:00:00</td>\n",
       "      <td>182.88</td>\n",
       "      <td>198</td>\n",
       "    </tr>\n",
       "    <tr>\n",
       "      <th>4</th>\n",
       "      <td>5</td>\n",
       "      <td>23780</td>\n",
       "      <td>Aaron Hughes</td>\n",
       "      <td>17725</td>\n",
       "      <td>1979-11-08 00:00:00</td>\n",
       "      <td>182.88</td>\n",
       "      <td>154</td>\n",
       "    </tr>\n",
       "  </tbody>\n",
       "</table>\n",
       "</div>"
      ],
      "text/plain": [
       "   id  player_api_id         player_name  player_fifa_api_id  \\\n",
       "0   1         505942  Aaron Appindangoye              218353   \n",
       "1   2         155782     Aaron Cresswell              189615   \n",
       "2   3         162549         Aaron Doran              186170   \n",
       "3   4          30572       Aaron Galindo              140161   \n",
       "4   5          23780        Aaron Hughes               17725   \n",
       "\n",
       "              birthday  height  weight  \n",
       "0  1992-02-29 00:00:00  182.88     187  \n",
       "1  1989-12-15 00:00:00  170.18     146  \n",
       "2  1991-05-13 00:00:00  170.18     163  \n",
       "3  1982-05-08 00:00:00  182.88     198  \n",
       "4  1979-11-08 00:00:00  182.88     154  "
      ]
     },
     "execution_count": 209,
     "metadata": {},
     "output_type": "execute_result"
    }
   ],
   "source": [
    "player_data.head()"
   ]
  },
  {
   "cell_type": "code",
   "execution_count": 210,
   "id": "e1b5b68e",
   "metadata": {},
   "outputs": [],
   "source": [
    "# TASK 1\n",
    "players_180_190 = player_data.loc[(player_data.height >= 180) & (player_data.height <= 190)].shape[0]"
   ]
  },
  {
   "cell_type": "code",
   "execution_count": 211,
   "id": "09c88fae",
   "metadata": {},
   "outputs": [],
   "source": [
    "assert(isinstance(players_180_190, int))"
   ]
  },
  {
   "cell_type": "code",
   "execution_count": 212,
   "id": "8bf4460b",
   "metadata": {},
   "outputs": [],
   "source": [
    "# TASK 2\n",
    "import re\n",
    "players_1980 = player_data.loc[player_data.birthday.str.match(r'^1980-.*') == True].shape[0]"
   ]
  },
  {
   "cell_type": "code",
   "execution_count": 213,
   "id": "851344ba",
   "metadata": {},
   "outputs": [],
   "source": [
    "assert(isinstance(players_1980, int))"
   ]
  },
  {
   "cell_type": "code",
   "execution_count": 214,
   "id": "b1bc7350",
   "metadata": {},
   "outputs": [],
   "source": [
    "# TASK 3\n",
    "highest_players = list(player_data.sort_values(by=['weight', 'player_name'],\\\n",
    "                                               ascending = [False, True], \\\n",
    "                                               ignore_index=True).loc[:9, 'player_name'])"
   ]
  },
  {
   "cell_type": "code",
   "execution_count": 215,
   "id": "bd4a44a9",
   "metadata": {},
   "outputs": [],
   "source": [
    "assert(len(highest_players) == 10)\n",
    "assert(isinstance(highest_players, list))\n",
    "for i in range(10):\n",
    "    assert(isinstance(highest_players[i], str))"
   ]
  },
  {
   "cell_type": "code",
   "execution_count": 216,
   "id": "3e2d2ffe",
   "metadata": {},
   "outputs": [],
   "source": [
    "# TASK 4\n",
    "years_born_players = []\n",
    "player_data.birthday = pd.to_datetime(player_data['birthday'])\n",
    "date_80_90 = player_data.birthday.dt.year.\\\n",
    "             loc[(player_data.birthday.dt.year <= 1990) & (player_data.birthday.dt.year >= 1980)].\\\n",
    "             value_counts().sort_index().array\n",
    "df_date_80_90 = pd.DataFrame(date_80_90, range(1980,1991,1))\n",
    "for i, row in df_date_80_90.iterrows():\n",
    "    years_born_players.append((i, int(row[0])))    "
   ]
  },
  {
   "cell_type": "code",
   "execution_count": 217,
   "id": "9ab8c8d6",
   "metadata": {},
   "outputs": [],
   "source": [
    "assert(len(years_born_players) == 11)\n",
    "assert(isinstance(years_born_players, list))\n",
    "for i in range(10):\n",
    "    assert(isinstance(years_born_players[i], tuple))\n",
    "    assert(isinstance(years_born_players[i][0], int))\n",
    "    assert(isinstance(years_born_players[i][1], int))"
   ]
  },
  {
   "cell_type": "code",
   "execution_count": 218,
   "id": "decd017c",
   "metadata": {},
   "outputs": [],
   "source": [
    "# TASK 5\n",
    "adriano_mean, adriano_std = player_data.loc[player_data.player_name.str.match(r'^Adriano.*') == 1].height.mean(),\\\n",
    "                            player_data.loc[player_data.player_name.str.match(r'^Adriano.*') == 1].height.std()"
   ]
  },
  {
   "cell_type": "code",
   "execution_count": 219,
   "id": "f60dbc99",
   "metadata": {},
   "outputs": [],
   "source": [
    "assert(isinstance(adriano_mean, float))\n",
    "assert(isinstance(adriano_std, float))"
   ]
  },
  {
   "cell_type": "code",
   "execution_count": 220,
   "id": "38d568ae",
   "metadata": {
    "scrolled": true
   },
   "outputs": [],
   "source": [
    "# TASK 6\n",
    "dow_with_min_players_born = player_data['birthday'].dt.day_name().value_counts('Day').sort_values().index[0]"
   ]
  },
  {
   "cell_type": "code",
   "execution_count": 221,
   "id": "c9130e49",
   "metadata": {},
   "outputs": [],
   "source": [
    "assert(isinstance(dow_with_min_players_born, str))"
   ]
  },
  {
   "cell_type": "code",
   "execution_count": 222,
   "id": "82b4458e",
   "metadata": {},
   "outputs": [],
   "source": [
    "# TASK 7\n",
    "league = pd.read_sql(\"SELECT * FROM League;\", db)\n",
    "matche = pd.read_sql(\"SELECT * FROM Match;\", db)\n",
    "leag_id = matche.value_counts('league_id').sort_values(ascending = False)\n",
    "leag_id_max_rep = int(leag_id.value_counts(sort=False).values[0])\n",
    "leags_most_matches = leag_id.index[0:leag_id_max_rep]\n",
    "league_most_matches = league.name.loc[league.id.isin(leags_most_matches)].sort_values().values[0]"
   ]
  },
  {
   "cell_type": "code",
   "execution_count": 223,
   "id": "b90ce28d",
   "metadata": {},
   "outputs": [],
   "source": [
    "assert(isinstance(league_most_matches, str))"
   ]
  },
  {
   "cell_type": "code",
   "execution_count": 224,
   "id": "eb6c61dc",
   "metadata": {},
   "outputs": [],
   "source": [
    "# TASK 8\n",
    "player_id = ['home_player_1', 'home_player_2', 'home_player_3', 'home_player_4',\\\n",
    "             'home_player_5', 'home_player_6', 'home_player_7', 'home_player_8',\\\n",
    "             'home_player_9', 'home_player_10', 'home_player_11',\\\n",
    "             'away_player_1', 'away_player_2', 'away_player_3', 'away_player_4',\\\n",
    "             'away_player_5', 'away_player_6', 'away_player_7', 'away_player_8',\\\n",
    "             'away_player_9', 'away_player_10', 'away_player_11']\n",
    "id_df = pd.DataFrame({'id': matche.loc[:][player_id[0]]})\n",
    "for i in player_id[1:]:\n",
    "    id_df1 = pd.DataFrame({'id': matche.loc[:][i]})\n",
    "    id_df = pd.concat([id_df, id_df1], ignore_index=True)\n",
    "id_player = id_df.value_counts().index[0]\n",
    "max_matches_player = list(player_data.loc[player_data.player_api_id == id_player]['player_name'])[0]"
   ]
  },
  {
   "cell_type": "code",
   "execution_count": 225,
   "id": "75b10ffe",
   "metadata": {},
   "outputs": [],
   "source": [
    "assert(isinstance(max_matches_player, str))"
   ]
  },
  {
   "cell_type": "code",
   "execution_count": 226,
   "id": "2bbb060d",
   "metadata": {},
   "outputs": [],
   "source": [
    "# TASK 9\n",
    "player_attr = pd.read_sql(\"SELECT * FROM Player_attributes;\", db)\n",
    "player_char = []\n",
    "player_char_exept = ['id', 'player_fifa_api_id', 'player_api_id', 'date',\\\n",
    "                     'preferred_foot', 'attacking_work_rate', 'defensive_work_rate']\n",
    "for char in list(player_attr.columns):\n",
    "    if char not in player_char_exept:\n",
    "        player_char.append(char)\n",
    "df_attr = pd.DataFrame(player_attr.loc[:][player_char]) \n",
    "corr = df_attr.corr(method='pearson')\n",
    "dict = {}\n",
    "array_max = [0]\n",
    "top_correlated_features = []\n",
    "for i in range(0, int(corr.size**0.5)):\n",
    "    for j in range(0, int(corr.size**0.5)):\n",
    "        if i >= j:\n",
    "            corr.iloc[i, j] = 0\n",
    "        elif pd.notna(corr.iloc[i, j]):\n",
    "            dict[corr.iloc[i, j]] = (str(corr.index[i]), str(corr.index[j]))\n",
    "            array_max.append(corr.iloc[i, j])\n",
    "            \n",
    "array_max.sort(reverse = True)            \n",
    "for el in array_max[:5]:\n",
    "    top_correlated_features.append(dict[el])"
   ]
  },
  {
   "cell_type": "code",
   "execution_count": 227,
   "id": "a4baa8bc",
   "metadata": {},
   "outputs": [],
   "source": [
    "assert(len(top_correlated_features) == 5)\n",
    "assert(isinstance(top_correlated_features, list))\n",
    "for i in range(5):\n",
    "    assert(isinstance(top_correlated_features[i], tuple))\n",
    "    assert(isinstance(top_correlated_features[i][0], str))\n",
    "    assert(isinstance(top_correlated_features[i][1], str))"
   ]
  },
  {
   "cell_type": "code",
   "execution_count": 228,
   "id": "ecb9c8e5",
   "metadata": {},
   "outputs": [],
   "source": [
    "#TASK 10\n",
    "import numpy as np\n",
    "neymar_id = int(player_data.player_api_id.loc[player_data.player_name.str.count(r'Neymar') == 1])\n",
    "neymar_vect = player_attr.loc[player_attr.player_api_id == neymar_id].\\\n",
    "                         sort_values(by='date', ascending = False, ignore_index = True).\\\n",
    "                         loc[0, player_char]\n",
    "player_char.append('player_api_id')\n",
    "player_char.append('date')\n",
    "df_evk_s = pd.DataFrame(player_attr.loc[:][player_char]).\\\n",
    "                     sort_values(by=['player_api_id', 'date'], ignore_index = True, ascending = [True, False])\n",
    "count_uniq = list(df_evk_s.value_counts('player_api_id',sort=False).values)\n",
    "array = [0]\n",
    "for el in count_uniq:\n",
    "    array.append(array[-1]+el)\n",
    "evk_vect_full = df_evk_s.loc[array[0:-1],:].set_index('player_api_id').drop('date', axis=1)\n",
    "evk_vect = (evk_vect_full - neymar_vect)**2\n",
    "evk = evk_vect.apply(np.sum, axis=1).apply(np.sqrt)\n",
    "most_similar_id = evk.apply(lambda r: r-evk.loc[neymar_id]).abs().sort_values().index[1:6].to_list()\n",
    "neymar_similarities = []\n",
    "for el in most_similar_id:\n",
    "    neymar_similarities.append(list(player_data.loc[player_data.player_api_id == el].player_name)[0])"
   ]
  },
  {
   "cell_type": "code",
   "execution_count": 229,
   "id": "e1ea538e",
   "metadata": {},
   "outputs": [],
   "source": [
    "assert(len(neymar_similarities) == 5)\n",
    "assert(isinstance(neymar_similarities, list))\n",
    "for i in range(5):\n",
    "    assert(isinstance(neymar_similarities[i], str))"
   ]
  },
  {
   "cell_type": "code",
   "execution_count": 230,
   "id": "863f9bb4",
   "metadata": {},
   "outputs": [],
   "source": [
    "# TASK 11\n",
    "team_data = pd.read_sql(\"SELECT * FROM Team;\", db)\n",
    "team_attr = pd.read_sql(\"SELECT * FROM Team_attributes;\", db)\n",
    "dort_id = int(team_data.loc[team_data.team_long_name == 'Borussia Dortmund']['team_api_id'].values[0])\n",
    "dort_sh = team_data.loc[team_data.team_long_name == 'Borussia Dortmund']['team_short_name'].values[0]\n",
    "leag_id = int(league.loc[league.name == 'Germany 1. Bundesliga']['id'].values[0])\n",
    "borussia_bundesliga_2008_2009_matches = matche.loc[(matche.season == '2008/2009') & \\\n",
    "                                                   (matche.league_id == leag_id) & \\\n",
    "                                                   (matche['home_team_api_id'] == dort_id)].shape[0]"
   ]
  },
  {
   "cell_type": "code",
   "execution_count": 231,
   "id": "6a3350c1",
   "metadata": {},
   "outputs": [],
   "source": [
    "assert(isinstance(borussia_bundesliga_2008_2009_matches, int))"
   ]
  },
  {
   "cell_type": "code",
   "execution_count": 232,
   "id": "65f2c5f3",
   "metadata": {},
   "outputs": [],
   "source": [
    "# TASK 12\n",
    "team_most_matches_bundesliga_2008_2009_arr = matche.loc[(matche.season == '2008/2009') &\\\n",
    "                                                        (matche.league_id == leag_id)]\\\n",
    "                                                       [['home_team_api_id' ,'away_team_api_id']]\n",
    "\n",
    "team_df = pd.concat([team_most_matches_bundesliga_2008_2009_arr.home_team_api_id, \\\n",
    "                     team_most_matches_bundesliga_2008_2009_arr.away_team_api_id], ignore_index=True)\n",
    "team_most_matches_bundesliga_2008_2009 = int(team_df.value_counts(ascending = False).values[0])                   "
   ]
  },
  {
   "cell_type": "code",
   "execution_count": 233,
   "id": "3b16913f",
   "metadata": {},
   "outputs": [],
   "source": [
    "assert(isinstance(team_most_matches_bundesliga_2008_2009, int))"
   ]
  },
  {
   "cell_type": "code",
   "execution_count": 234,
   "id": "6b052444",
   "metadata": {},
   "outputs": [],
   "source": [
    "#TASK 13\n",
    "ars_id = int(team_data.loc[team_data.team_long_name == 'Arsenal']['team_api_id'].values[0])\n",
    "\n",
    "home_won = matche.loc[(matche.season == '2015/2016') & (matche.home_team_api_id == ars_id)].\\\n",
    "       loc[matche.home_team_goal > matche.away_team_goal].shape[0]\n",
    "\n",
    "away_won = matche.loc[(matche.season == '2015/2016') & (matche.away_team_api_id == ars_id)].\\\n",
    "       loc[matche.home_team_goal < matche.away_team_goal].shape[0]\n",
    "\n",
    "arsenal_won_matches_2015_2016 = away_won + home_won\n"
   ]
  },
  {
   "cell_type": "code",
   "execution_count": 235,
   "id": "10db1a6d",
   "metadata": {},
   "outputs": [],
   "source": [
    "assert(isinstance(arsenal_won_matches_2015_2016, int))"
   ]
  },
  {
   "cell_type": "code",
   "execution_count": 236,
   "id": "85f614b1",
   "metadata": {},
   "outputs": [],
   "source": [
    "#TASK 14\n",
    "ser_home = matche.loc[(matche.season == '2015/2016')].value_counts('home_team_api_id', sort = False)\n",
    "ser_away = matche.loc[(matche.season == '2015/2016')].value_counts('away_team_api_id', sort = False)\n",
    "won_home = []\n",
    "for el in list(ser_home.index):\n",
    "    ser_home_won = matche.loc[(matche.season == '2015/2016') & (matche.home_team_api_id == el)].\\\n",
    "    loc[matche.home_team_goal > matche.away_team_goal].shape[0]\n",
    "    won_home.append(ser_home_won)\n",
    "won_away = []\n",
    "for el in list(ser_home.index):\n",
    "    ser_away_won = matche.loc[(matche.season == '2015/2016') & (matche.away_team_api_id == el)].\\\n",
    "    loc[matche.home_team_goal < matche.away_team_goal].shape[0]\n",
    "    won_away.append(ser_away_won)\n",
    "team_rate = pd.DataFrame({'home_team':ser_home, 'away_team':ser_away, \\\n",
    "                          'home_won':won_home, 'away_won':won_away}, index=ser_home.index)\n",
    "ser_games = team_rate.loc[:,['home_team', 'away_team']].sum(axis = 1)\n",
    "ser_wons = team_rate.loc[:,['home_won', 'away_won']].sum(axis = 1)\n",
    "rate = []\n",
    "for el in ser_home.index:\n",
    "    rate.append(ser_wons[el]/ser_games[el])\n",
    "team_highest_winrate_2015_2016 = list(team_data.loc[team_data.team_api_id == int(pd.Series(rate, index=ser_home.index).\\\n",
    "                                                sort_values(ascending = False).index[0])]['team_long_name'])[0]"
   ]
  },
  {
   "cell_type": "code",
   "execution_count": 237,
   "id": "935e1af2",
   "metadata": {},
   "outputs": [],
   "source": [
    "assert(isinstance(team_highest_winrate_2015_2016, str))"
   ]
  },
  {
   "cell_type": "code",
   "execution_count": 238,
   "id": "5a5ec42c",
   "metadata": {},
   "outputs": [],
   "source": [
    "# TASK 15\n",
    "eng_leag_id = int(league.loc[league.name == 'England Premier League']['id'].values[0])\n",
    "\n",
    "team_eng = matche.loc[(matche.season == '2010/2011') & (matche.league_id == eng_leag_id)]\\\n",
    "                     [['date','away_team_api_id','home_team_api_id']]\n",
    "team_eng_uni = pd.concat([team_eng.rename(columns={'home_team_api_id': 'team_api_id'}).loc[:,['date','team_api_id']],\\\n",
    "                          team_eng.rename(columns={'away_team_api_id': 'team_api_id'}).loc[:,['date','team_api_id']]],\\\n",
    "                          ignore_index=True)\\\n",
    "                          .sort_values(by=['team_api_id', 'date'], ascending = [True, False], ignore_index = True)\n",
    "team_eng_uni.date = pd.to_datetime(team_eng_uni.date)\n",
    "\n",
    "arr_ammount = list(team_eng_uni.value_counts('team_api_id', sort = False).values)\n",
    "arr_ind = [0]\n",
    "for el in arr_ammount:\n",
    "    arr_ind.append(arr_ind[-1]+el)\n",
    "arr_id = list(team_eng_uni.value_counts('team_api_id', sort = False).index)\n",
    "time_dif = [0]\n",
    "for i in range(0,len(arr_id)): # i команда\n",
    "    for j in range(arr_ind[i],arr_ind[i+1]-1): # диапазон индкесов для команды\n",
    "        time_dif_temp = (team_eng_uni.loc[j,'date']-team_eng_uni.loc[j+1,'date']).days\n",
    "        if time_dif_temp > time_dif[-1]:\n",
    "            time_dif.append(time_dif_temp)\n",
    "               \n",
    "highest_gap_england_2010_2011 = time_dif[-1]"
   ]
  },
  {
   "cell_type": "code",
   "execution_count": 239,
   "id": "a0fa9b18",
   "metadata": {},
   "outputs": [],
   "source": [
    "assert(isinstance(highest_gap_england_2010_2011, int))"
   ]
  },
  {
   "cell_type": "code",
   "execution_count": 240,
   "id": "e7920939",
   "metadata": {},
   "outputs": [],
   "source": [
    "with open('student_answers.txt', 'w') as file:\n",
    "    file.write(f\"{players_180_190}\\n\")\n",
    "    file.write(f\"{players_1980}\\n\")\n",
    "    file.write(f\"{highest_players}\\n\")\n",
    "    file.write(f\"{years_born_players}\\n\")\n",
    "    file.write(f\"{round(adriano_mean, 3)} {round(adriano_std, 3)}\\n\")\n",
    "    file.write(f\"{dow_with_min_players_born}\\n\")\n",
    "    file.write(f\"{league_most_matches}\\n\")\n",
    "    file.write(f\"{max_matches_player}\\n\")\n",
    "    file.write(f\"{';'.join(['%s,%s' % tup for tup in top_correlated_features])};\\n\")\n",
    "    file.write(f\"{neymar_similarities}\\n\")\n",
    "    file.write(f\"{borussia_bundesliga_2008_2009_matches}\\n\")\n",
    "    file.write(f\"{team_most_matches_bundesliga_2008_2009}\\n\")\n",
    "    file.write(f\"{arsenal_won_matches_2015_2016}\\n\")\n",
    "    file.write(f\"{team_highest_winrate_2015_2016}\\n\")\n",
    "    file.write(f\"{highest_gap_england_2010_2011}\\n\")"
   ]
  }
 ],
 "metadata": {
  "kernelspec": {
   "display_name": "Python 3 (ipykernel)",
   "language": "python",
   "name": "python3"
  },
  "language_info": {
   "codemirror_mode": {
    "name": "ipython",
    "version": 3
   },
   "file_extension": ".py",
   "mimetype": "text/x-python",
   "name": "python",
   "nbconvert_exporter": "python",
   "pygments_lexer": "ipython3",
   "version": "3.9.7"
  }
 },
 "nbformat": 4,
 "nbformat_minor": 5
}
